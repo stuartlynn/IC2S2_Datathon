{
 "cells": [
  {
   "cell_type": "code",
   "execution_count": 12,
   "id": "42aa830c",
   "metadata": {},
   "outputs": [],
   "source": [
    "import geopandas as gpd\n",
    "import pandas as pd\n",
    "from glob import glob\n",
    "from od_data_extractor import DataExtractor "
   ]
  },
  {
   "cell_type": "code",
   "execution_count": 13,
   "id": "ed50ce34",
   "metadata": {},
   "outputs": [],
   "source": [
    "chicago_tracts = gpd.read_file('../data/processed/park_tract_join_CHICAGO.geojson')\n",
    "ny_tracts = chicago_tracts = gpd.read_file('../data/processed/park_tract_join_NYC.geojson')"
   ]
  },
  {
   "cell_type": "code",
   "execution_count": 14,
   "id": "17afd009",
   "metadata": {
    "scrolled": true
   },
   "outputs": [
    {
     "data": {
      "text/html": [
       "<div>\n",
       "<style scoped>\n",
       "    .dataframe tbody tr th:only-of-type {\n",
       "        vertical-align: middle;\n",
       "    }\n",
       "\n",
       "    .dataframe tbody tr th {\n",
       "        vertical-align: top;\n",
       "    }\n",
       "\n",
       "    .dataframe thead th {\n",
       "        text-align: right;\n",
       "    }\n",
       "</style>\n",
       "<table border=\"1\" class=\"dataframe\">\n",
       "  <thead>\n",
       "    <tr style=\"text-align: right;\">\n",
       "      <th></th>\n",
       "      <th>origin</th>\n",
       "      <th>destination</th>\n",
       "      <th>trips</th>\n",
       "      <th>date</th>\n",
       "    </tr>\n",
       "  </thead>\n",
       "  <tbody>\n",
       "    <tr>\n",
       "      <th>0</th>\n",
       "      <td>17031010100</td>\n",
       "      <td>17031010100</td>\n",
       "      <td>4052</td>\n",
       "      <td>2019-12-30</td>\n",
       "    </tr>\n",
       "    <tr>\n",
       "      <th>1</th>\n",
       "      <td>17031010201</td>\n",
       "      <td>17031010100</td>\n",
       "      <td>416</td>\n",
       "      <td>2019-12-30</td>\n",
       "    </tr>\n",
       "    <tr>\n",
       "      <th>2</th>\n",
       "      <td>17031010202</td>\n",
       "      <td>17031010100</td>\n",
       "      <td>511</td>\n",
       "      <td>2019-12-30</td>\n",
       "    </tr>\n",
       "    <tr>\n",
       "      <th>3</th>\n",
       "      <td>17031010300</td>\n",
       "      <td>17031010100</td>\n",
       "      <td>542</td>\n",
       "      <td>2019-12-30</td>\n",
       "    </tr>\n",
       "    <tr>\n",
       "      <th>4</th>\n",
       "      <td>17031010400</td>\n",
       "      <td>17031010100</td>\n",
       "      <td>469</td>\n",
       "      <td>2019-12-30</td>\n",
       "    </tr>\n",
       "    <tr>\n",
       "      <th>...</th>\n",
       "      <td>...</td>\n",
       "      <td>...</td>\n",
       "      <td>...</td>\n",
       "      <td>...</td>\n",
       "    </tr>\n",
       "    <tr>\n",
       "      <th>1687</th>\n",
       "      <td>17097861107</td>\n",
       "      <td>17031010100</td>\n",
       "      <td>81</td>\n",
       "      <td>2022-04-25</td>\n",
       "    </tr>\n",
       "    <tr>\n",
       "      <th>1700</th>\n",
       "      <td>17097861507</td>\n",
       "      <td>17031010100</td>\n",
       "      <td>90</td>\n",
       "      <td>2022-04-25</td>\n",
       "    </tr>\n",
       "    <tr>\n",
       "      <th>1713</th>\n",
       "      <td>17097861803</td>\n",
       "      <td>17031010100</td>\n",
       "      <td>55</td>\n",
       "      <td>2022-04-25</td>\n",
       "    </tr>\n",
       "    <tr>\n",
       "      <th>2047</th>\n",
       "      <td>18089012500</td>\n",
       "      <td>17031010100</td>\n",
       "      <td>73</td>\n",
       "      <td>2022-04-25</td>\n",
       "    </tr>\n",
       "    <tr>\n",
       "      <th>2054</th>\n",
       "      <td>18089020400</td>\n",
       "      <td>17031010100</td>\n",
       "      <td>73</td>\n",
       "      <td>2022-04-25</td>\n",
       "    </tr>\n",
       "  </tbody>\n",
       "</table>\n",
       "<p>5792 rows × 4 columns</p>\n",
       "</div>"
      ],
      "text/plain": [
       "           origin  destination  trips        date\n",
       "0     17031010100  17031010100   4052  2019-12-30\n",
       "1     17031010201  17031010100    416  2019-12-30\n",
       "2     17031010202  17031010100    511  2019-12-30\n",
       "3     17031010300  17031010100    542  2019-12-30\n",
       "4     17031010400  17031010100    469  2019-12-30\n",
       "...           ...          ...    ...         ...\n",
       "1687  17097861107  17031010100     81  2022-04-25\n",
       "1700  17097861507  17031010100     90  2022-04-25\n",
       "1713  17097861803  17031010100     55  2022-04-25\n",
       "2047  18089012500  17031010100     73  2022-04-25\n",
       "2054  18089020400  17031010100     73  2022-04-25\n",
       "\n",
       "[5792 rows x 4 columns]"
      ]
     },
     "execution_count": 14,
     "metadata": {},
     "output_type": "execute_result"
    }
   ],
   "source": [
    "chi = DataExtractor('../data/raw/sg_chicago')\n",
    "chi.set_destination(chi.tract_ids[0])\n",
    "chi.get_timeseries_df()"
   ]
  },
  {
   "cell_type": "code",
   "execution_count": null,
   "id": "6e8dba60",
   "metadata": {},
   "outputs": [],
   "source": [
    "chi = DataExtractor('../data/raw/sg_chicago')\n",
    "chi.set_destinations(chi.tract_ids[0:2])\n",
    "chi.get_timeseries_df_multi()"
   ]
  },
  {
   "cell_type": "code",
   "execution_count": null,
   "id": "a3ff844f",
   "metadata": {},
   "outputs": [],
   "source": []
  }
 ],
 "metadata": {
  "kernelspec": {
   "display_name": "Python 3 (ipykernel)",
   "language": "python",
   "name": "python3"
  },
  "language_info": {
   "codemirror_mode": {
    "name": "ipython",
    "version": 3
   },
   "file_extension": ".py",
   "mimetype": "text/x-python",
   "name": "python",
   "nbconvert_exporter": "python",
   "pygments_lexer": "ipython3",
   "version": "3.7.13"
  }
 },
 "nbformat": 4,
 "nbformat_minor": 5
}
