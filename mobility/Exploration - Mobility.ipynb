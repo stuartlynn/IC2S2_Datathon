{
 "cells": [
  {
   "cell_type": "code",
   "execution_count": 1,
   "id": "42aa830c",
   "metadata": {},
   "outputs": [],
   "source": [
    "import geopandas as gpd\n",
    "import pandas as pd\n",
    "# import pydeck as pdk\n",
    "from glob import glob\n",
    "import numpy as np\n",
    "from scipy import sparse"
   ]
  },
  {
   "cell_type": "code",
   "execution_count": 2,
   "id": "60e620cd",
   "metadata": {},
   "outputs": [],
   "source": [
    "# !pip install pydeck\n",
    "# !pip install geopandas"
   ]
  },
  {
   "cell_type": "code",
   "execution_count": 3,
   "id": "e0454d59",
   "metadata": {},
   "outputs": [],
   "source": [
    "# tracts = gpd.read_file('./data/census_tracts.zip')\n",
    "# tract_centroids = tracts\n",
    "# tract_centroids['geometry'] = tracts.centroid\n",
    "# tract_centroids.to_csv('./data/tract_centroids.csv')\n",
    "tract_centroids = pd.read_csv('./data/tract_centroids.csv')"
   ]
  },
  {
   "cell_type": "code",
   "execution_count": 4,
   "id": "53abeb4b",
   "metadata": {},
   "outputs": [],
   "source": [
    "centroid_dict = {}\n",
    "for i in range(0, len(tract_centroids)):\n",
    "    centroid_dict[tract_centroids.iloc[i].GEOID] = {\n",
    "        \"lat\": round(tract_centroids.iloc[i].INTPTLAT, 4),\n",
    "        \"lon\": round(tract_centroids.iloc[i].INTPTLON, 4),\n",
    "    }"
   ]
  },
  {
   "cell_type": "code",
   "execution_count": 5,
   "id": "7e01581b",
   "metadata": {},
   "outputs": [],
   "source": [
    "tract_ids = [value[0] for value in pd.read_csv('./data/chicago/TractID_List.csv', header=None).values]\n"
   ]
  },
  {
   "cell_type": "code",
   "execution_count": 7,
   "id": "89eeaf1f",
   "metadata": {},
   "outputs": [],
   "source": [
    "timeseries_files = glob('./data/chicago/*.csv')\n",
    "dates = []\n",
    "\n",
    "for file in timeseries_files:\n",
    "    if 'TractID_List' in file:\n",
    "        continue\n",
    "    else:\n",
    "        dates.append(file.split('/')[-1].split('.')[0])"
   ]
  },
  {
   "cell_type": "code",
   "execution_count": null,
   "id": "9ffbd42f",
   "metadata": {},
   "outputs": [],
   "source": [
    "sparse = []\n",
    "\n",
    "for i in range(0, len(timeseries_files)):\n",
    "    file = timeseries_files[0]\n",
    "    date = file.split('/')[-1].split('.')[0]\n",
    "    df = pd.read_csv(file, header=None)\n",
    "    vals = df.values\n",
    "    for i in range(0, len(vals)):\n",
    "        for j in range(0, len(vals[i])):\n",
    "            o = tract_ids[i]\n",
    "            d = tract_ids[j]\n",
    "            sparse.append({\n",
    "                \"o_lat\": centroid_dict[o][\"lat\"],\n",
    "                \"o_lon\": centroid_dict[o][\"lon\"],\n",
    "                \"d_lat\": centroid_dict[d][\"lat\"],\n",
    "                \"d_lon\": centroid_dict[d][\"lon\"],\n",
    "                \"count\": vals[i][j],\n",
    "                \"date\": date\n",
    "            })\n",
    "\n",
    "sparse_df = pd.DataFrame(sparse)\n",
    "sparse_df[sparse_df['count'] > 0].to_csv('./data/sparse_chicago.csv', index=False)"
   ]
  },
  {
   "cell_type": "code",
   "execution_count": null,
   "id": "4bb42ac6",
   "metadata": {},
   "outputs": [],
   "source": [
    "sparse_df.head()"
   ]
  },
  {
   "cell_type": "code",
   "execution_count": null,
   "id": "b4a49df2",
   "metadata": {},
   "outputs": [],
   "source": []
  }
 ],
 "metadata": {
  "kernelspec": {
   "display_name": "Python 3 (ipykernel)",
   "language": "python",
   "name": "python3"
  },
  "language_info": {
   "codemirror_mode": {
    "name": "ipython",
    "version": 3
   },
   "file_extension": ".py",
   "mimetype": "text/x-python",
   "name": "python",
   "nbconvert_exporter": "python",
   "pygments_lexer": "ipython3",
   "version": "3.7.13"
  }
 },
 "nbformat": 4,
 "nbformat_minor": 5
}
